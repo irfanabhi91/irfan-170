{
 "cells": [
  {
   "cell_type": "code",
   "execution_count": 1,
   "id": "941ced4c-5693-4373-91c9-11e4b6414fb6",
   "metadata": {},
   "outputs": [
    {
     "name": "stdout",
     "output_type": "stream",
     "text": [
      "First element: 10\n",
      "Third element: 30\n",
      "Last element: 50\n"
     ]
    }
   ],
   "source": [
    "# Creating a list with 5 elements\n",
    "my_list = [10, 20, 30, 40, 50]\n",
    "\n",
    "# Accessing elements by index\n",
    "first_element = my_list[0]  # Accessing the first element\n",
    "third_element = my_list[2]  # Accessing the third element\n",
    "last_element = my_list[-1]  # Accessing the last element\n",
    "\n",
    "# Printing the results\n",
    "print(f\"First element: {first_element}\")\n",
    "print(f\"Third element: {third_element}\")\n",
    "print(f\"Last element: {last_element}\")\n"
   ]
  },
  {
   "cell_type": "code",
   "execution_count": null,
   "id": "919ed24d-d131-4855-bfcd-badd1005ee1b",
   "metadata": {},
   "outputs": [],
   "source": []
  }
 ],
 "metadata": {
  "kernelspec": {
   "display_name": "Python 3 (ipykernel)",
   "language": "python",
   "name": "python3"
  },
  "language_info": {
   "codemirror_mode": {
    "name": "ipython",
    "version": 3
   },
   "file_extension": ".py",
   "mimetype": "text/x-python",
   "name": "python",
   "nbconvert_exporter": "python",
   "pygments_lexer": "ipython3",
   "version": "3.12.7"
  }
 },
 "nbformat": 4,
 "nbformat_minor": 5
}
