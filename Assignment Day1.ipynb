{
 "cells": [
  {
   "cell_type": "code",
   "execution_count": 1,
   "id": "210f2934-2722-4a1a-9b0c-a791997b2d54",
   "metadata": {},
   "outputs": [
    {
     "name": "stdout",
     "output_type": "stream",
     "text": [
      "Integer Variable: 10, Type: <class 'int'>\n",
      "Float Variable: 3.14, Type: <class 'float'>\n",
      "String Variable: Hello, World!, Type: <class 'str'>\n",
      "Boolean Variable: True, Type: <class 'bool'>\n"
     ]
    }
   ],
   "source": [
    "# Declare variables of different data types\n",
    "integer_var = 10\n",
    "float_var = 3.14\n",
    "string_var = \"Hello, World!\"\n",
    "boolean_var = True\n",
    "\n",
    "# Print the variables and their types\n",
    "print(f\"Integer Variable: {integer_var}, Type: {type(integer_var)}\")\n",
    "print(f\"Float Variable: {float_var}, Type: {type(float_var)}\")\n",
    "print(f\"String Variable: {string_var}, Type: {type(string_var)}\")\n",
    "print(f\"Boolean Variable: {boolean_var}, Type: {type(boolean_var)}\")\n"
   ]
  },
  {
   "cell_type": "code",
   "execution_count": null,
   "id": "e175c01e-ab18-491e-9fd1-016bae9d01a7",
   "metadata": {},
   "outputs": [],
   "source": []
  }
 ],
 "metadata": {
  "kernelspec": {
   "display_name": "Python 3 (ipykernel)",
   "language": "python",
   "name": "python3"
  },
  "language_info": {
   "codemirror_mode": {
    "name": "ipython",
    "version": 3
   },
   "file_extension": ".py",
   "mimetype": "text/x-python",
   "name": "python",
   "nbconvert_exporter": "python",
   "pygments_lexer": "ipython3",
   "version": "3.12.7"
  }
 },
 "nbformat": 4,
 "nbformat_minor": 5
}
