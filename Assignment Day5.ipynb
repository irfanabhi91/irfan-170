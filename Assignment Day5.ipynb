{
 "cells": [
  {
   "cell_type": "code",
   "execution_count": 1,
   "id": "7d0ebe28-6084-49c9-9d96-fce810f2be38",
   "metadata": {},
   "outputs": [
    {
     "name": "stdin",
     "output_type": "stream",
     "text": [
      "Enter a positive integer:  6\n"
     ]
    },
    {
     "name": "stdout",
     "output_type": "stream",
     "text": [
      "Numbers from 1 to 6 using for loop:\n",
      "1\n",
      "2\n",
      "3\n",
      "4\n",
      "5\n",
      "6\n",
      "Sum of numbers from 1 to 6 using while loop: 21\n"
     ]
    }
   ],
   "source": [
    "# Task 1: Ask the user to enter a positive integer n\n",
    "n = int(input(\"Enter a positive integer: \"))\n",
    "\n",
    "# Task 2: Use a for loop to print all numbers from 1 to n on separate lines\n",
    "print(\"Numbers from 1 to\", n, \"using for loop:\")\n",
    "for i in range(1, n + 1):\n",
    "    print(i)\n",
    "\n",
    "# Task 3: Use a while loop to calculate the sum of all numbers from 1 to n\n",
    "sum_numbers = 0\n",
    "i = 1\n",
    "while i <= n:\n",
    "    sum_numbers += i\n",
    "    i += 1\n",
    "\n",
    "print(\"Sum of numbers from 1 to\", n, \"using while loop:\", sum_numbers)\n"
   ]
  },
  {
   "cell_type": "code",
   "execution_count": 2,
   "id": "6f970478-aca1-4112-8b52-321e01888ab1",
   "metadata": {},
   "outputs": [
    {
     "name": "stdin",
     "output_type": "stream",
     "text": [
      "Enter a positive integer:  8\n"
     ]
    },
    {
     "name": "stdout",
     "output_type": "stream",
     "text": [
      "The square of 8 is 64.\n"
     ]
    }
   ],
   "source": [
    "# Define the function to calculate the square of a number\n",
    "def calculate_square(n):\n",
    "    return n * n\n",
    "\n",
    "# Main program\n",
    "def main():\n",
    "    # Ask the user to input a positive integer\n",
    "    try:\n",
    "        number = int(input(\"Enter a positive integer: \"))\n",
    "        if number <= 0:\n",
    "            print(\"Please enter a positive integer.\")\n",
    "        else:\n",
    "            # Call the calculate_square function and display the result\n",
    "            result = calculate_square(number)\n",
    "            print(f\"The square of {number} is {result}.\")\n",
    "    except ValueError:\n",
    "        print(\"Invalid input. Please enter a valid integer.\")\n",
    "\n",
    "# Run the main program\n",
    "if __name__ == \"__main__\":\n",
    "    main()\n"
   ]
  },
  {
   "cell_type": "code",
   "execution_count": null,
   "id": "6c320685-581f-4cc8-98c6-723b6e1a4ac5",
   "metadata": {},
   "outputs": [],
   "source": []
  }
 ],
 "metadata": {
  "kernelspec": {
   "display_name": "Python 3 (ipykernel)",
   "language": "python",
   "name": "python3"
  },
  "language_info": {
   "codemirror_mode": {
    "name": "ipython",
    "version": 3
   },
   "file_extension": ".py",
   "mimetype": "text/x-python",
   "name": "python",
   "nbconvert_exporter": "python",
   "pygments_lexer": "ipython3",
   "version": "3.12.7"
  }
 },
 "nbformat": 4,
 "nbformat_minor": 5
}
