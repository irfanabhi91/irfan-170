{
 "cells": [
  {
   "cell_type": "code",
   "execution_count": 1,
   "id": "4dd2df2d-d8a7-4de1-9220-1b0cf6d78849",
   "metadata": {},
   "outputs": [
    {
     "name": "stdout",
     "output_type": "stream",
     "text": [
      "    Name  Age Department  Salary\n",
      "0   John   28         HR   45000\n",
      "1  Alice   34         IT   60000\n",
      "2    Bob   23  Marketing   35000\n",
      "3  Diana   29    Finance   50000\n"
     ]
    }
   ],
   "source": [
    "import pandas as pd\n",
    "\n",
    "# Data to create DataFrame\n",
    "data = {\n",
    "    'Name': ['John', 'Alice', 'Bob', 'Diana'],\n",
    "    'Age': [28, 34, 23, 29],\n",
    "    'Department': ['HR', 'IT', 'Marketing', 'Finance'],\n",
    "    'Salary': [45000, 60000, 35000, 50000]\n",
    "}\n",
    "\n",
    "# Create the DataFrame\n",
    "df = pd.DataFrame(data)\n",
    "\n",
    "# Display the DataFrame\n",
    "print(df)\n"
   ]
  },
  {
   "cell_type": "code",
   "execution_count": 2,
   "id": "4c01ea27-0898-4cf4-9e3a-3679611c040a",
   "metadata": {},
   "outputs": [
    {
     "name": "stdout",
     "output_type": "stream",
     "text": [
      "First 2 rows:\n",
      "   EmployeeID   Name  Age  Salary\n",
      "0         101   John   28   50000\n",
      "1         102  Alice   24   60000\n",
      "\n",
      "Average Salary: 56600.0\n",
      "\n",
      "Employees older than 25:\n",
      "   EmployeeID  Name  Age  Salary   Bonus\n",
      "0         101  John   28   50000  5000.0\n",
      "2         103   Bob   35   55000  5500.0\n",
      "3         104   Eve   29   70000  7000.0\n"
     ]
    }
   ],
   "source": [
    "import pandas as pd\n",
    "\n",
    "# Sample DataFrame (you can replace this with your actual DataFrame)\n",
    "data = {\n",
    "    'EmployeeID': [101, 102, 103, 104, 105],\n",
    "    'Name': ['John', 'Alice', 'Bob', 'Eve', 'Charlie'],\n",
    "    'Age': [28, 24, 35, 29, 22],\n",
    "    'Salary': [50000, 60000, 55000, 70000, 48000]\n",
    "}\n",
    "\n",
    "df = pd.DataFrame(data)\n",
    "\n",
    "# 1. Display the first 2 rows of the DataFrame\n",
    "print(\"First 2 rows:\")\n",
    "print(df.head(2))\n",
    "\n",
    "# 2. Add a new column named 'Bonus' where the bonus is 10% of the salary\n",
    "df['Bonus'] = df['Salary'] * 0.10\n",
    "\n",
    "# 3. Calculate the average salary of employees\n",
    "average_salary = df['Salary'].mean()\n",
    "print(\"\\nAverage Salary:\", average_salary)\n",
    "\n",
    "# 4. Filter and display employees who are older than 25\n",
    "filtered_df = df[df['Age'] > 25]\n",
    "print(\"\\nEmployees older than 25:\")\n",
    "print(filtered_df)\n"
   ]
  },
  {
   "cell_type": "code",
   "execution_count": null,
   "id": "cca4c7b1-eb49-45d1-851d-05a96a67c343",
   "metadata": {},
   "outputs": [],
   "source": []
  }
 ],
 "metadata": {
  "kernelspec": {
   "display_name": "Python 3 (ipykernel)",
   "language": "python",
   "name": "python3"
  },
  "language_info": {
   "codemirror_mode": {
    "name": "ipython",
    "version": 3
   },
   "file_extension": ".py",
   "mimetype": "text/x-python",
   "name": "python",
   "nbconvert_exporter": "python",
   "pygments_lexer": "ipython3",
   "version": "3.12.7"
  }
 },
 "nbformat": 4,
 "nbformat_minor": 5
}
